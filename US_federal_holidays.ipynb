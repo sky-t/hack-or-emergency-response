{
 "cells": [
  {
   "cell_type": "markdown",
   "metadata": {},
   "source": [
    "Create a table of US Federal and State Holidays recognized in Oregon for import into postgres db.\n",
    "https://pypi.python.org/pypi/holidays\n"
   ]
  },
  {
   "cell_type": "code",
   "execution_count": 1,
   "metadata": {
    "collapsed": false
   },
   "outputs": [],
   "source": [
    "from datetime import date\n",
    "import holidays\n",
    "import csv\n",
    "import sys"
   ]
  },
  {
   "cell_type": "code",
   "execution_count": 2,
   "metadata": {
    "collapsed": true
   },
   "outputs": [],
   "source": [
    "us_holidays = holidays.UnitedStates() "
   ]
  },
  {
   "cell_type": "code",
   "execution_count": 3,
   "metadata": {
    "collapsed": false
   },
   "outputs": [
    {
     "name": "stdout",
     "output_type": "stream",
     "text": [
      "2010-01-01 New Year's Day\n",
      "2010-01-18 Martin Luther King, Jr. Day\n",
      "2010-02-15 Washington's Birthday\n",
      "2010-05-31 Memorial Day\n",
      "2010-07-04 Independence Day\n",
      "2010-07-05 Independence Day (Observed)\n",
      "2010-09-06 Labor Day\n",
      "2010-10-11 Columbus Day\n",
      "2010-11-11 Veterans Day\n",
      "2010-11-25 Thanksgiving\n",
      "2010-12-24 Christmas Day (Observed)\n",
      "2010-12-25 Christmas Day\n",
      "2010-12-31 New Year's Day (Observed)\n",
      "2011-01-01 New Year's Day\n",
      "2011-01-17 Martin Luther King, Jr. Day\n",
      "2011-02-21 Washington's Birthday\n",
      "2011-05-30 Memorial Day\n",
      "2011-07-04 Independence Day\n",
      "2011-09-05 Labor Day\n",
      "2011-10-10 Columbus Day\n",
      "2011-11-11 Veterans Day\n",
      "2011-11-24 Thanksgiving\n",
      "2011-12-25 Christmas Day\n",
      "2011-12-26 Christmas Day (Observed)\n",
      "2012-01-01 New Year's Day\n",
      "2012-01-02 New Year's Day (Observed)\n",
      "2012-01-16 Martin Luther King, Jr. Day\n",
      "2012-02-20 Washington's Birthday\n",
      "2012-05-28 Memorial Day\n",
      "2012-07-04 Independence Day\n",
      "2012-09-03 Labor Day\n",
      "2012-10-08 Columbus Day\n",
      "2012-11-11 Veterans Day\n",
      "2012-11-12 Veterans Day (Observed)\n",
      "2012-11-22 Thanksgiving\n",
      "2012-12-25 Christmas Day\n",
      "2013-01-01 New Year's Day\n",
      "2013-01-21 Martin Luther King, Jr. Day\n",
      "2013-02-18 Washington's Birthday\n",
      "2013-05-27 Memorial Day\n",
      "2013-07-04 Independence Day\n",
      "2013-09-02 Labor Day\n",
      "2013-10-14 Columbus Day\n",
      "2013-11-11 Veterans Day\n",
      "2013-11-28 Thanksgiving\n",
      "2013-12-25 Christmas Day\n",
      "2014-01-01 New Year's Day\n",
      "2014-01-20 Martin Luther King, Jr. Day\n",
      "2014-02-17 Washington's Birthday\n",
      "2014-05-26 Memorial Day\n",
      "2014-07-04 Independence Day\n",
      "2014-09-01 Labor Day\n",
      "2014-10-13 Columbus Day\n",
      "2014-11-11 Veterans Day\n",
      "2014-11-27 Thanksgiving\n",
      "2014-12-25 Christmas Day\n",
      "2015-01-01 New Year's Day\n",
      "2015-01-19 Martin Luther King, Jr. Day\n",
      "2015-02-16 Washington's Birthday\n",
      "2015-05-25 Memorial Day\n",
      "2015-07-03 Independence Day (Observed)\n",
      "2015-07-04 Independence Day\n",
      "2015-09-07 Labor Day\n",
      "2015-10-12 Columbus Day\n",
      "2015-11-11 Veterans Day\n",
      "2015-11-26 Thanksgiving\n",
      "2015-12-25 Christmas Day\n",
      "2016-01-01 New Year's Day\n",
      "2016-01-18 Martin Luther King, Jr. Day\n",
      "2016-02-15 Washington's Birthday\n",
      "2016-05-30 Memorial Day\n",
      "2016-07-04 Independence Day\n",
      "2016-09-05 Labor Day\n",
      "2016-10-10 Columbus Day\n",
      "2016-11-11 Veterans Day\n",
      "2016-11-24 Thanksgiving\n",
      "2016-12-25 Christmas Day\n",
      "2016-12-26 Christmas Day (Observed)\n"
     ]
    }
   ],
   "source": [
    "# writes a new csv file with holidays recognized in OR using the holidays module\n",
    "\n",
    "with open('or_holidays.csv', 'w', newline='') as f:\n",
    "    try:\n",
    "        writer = csv.writer(f)\n",
    "        writer.writerow(['date', 'holiday'])\n",
    "        for date, name in sorted(holidays.US(state='OR', years=[2010, 2011, 2012, 2013, 2014, 2015, 2016]).items()):\n",
    "            print(date, name)\n",
    "            writer.writerow([date, name])\n",
    "    finally:\n",
    "        f.close()\n",
    "    "
   ]
  },
  {
   "cell_type": "code",
   "execution_count": null,
   "metadata": {
    "collapsed": true
   },
   "outputs": [],
   "source": []
  }
 ],
 "metadata": {
  "kernelspec": {
   "display_name": "Python (snakes)",
   "language": "python",
   "name": "myenv"
  },
  "language_info": {
   "codemirror_mode": {
    "name": "ipython",
    "version": 3
   },
   "file_extension": ".py",
   "mimetype": "text/x-python",
   "name": "python",
   "nbconvert_exporter": "python",
   "pygments_lexer": "ipython3",
   "version": "3.6.0"
  }
 },
 "nbformat": 4,
 "nbformat_minor": 0
}

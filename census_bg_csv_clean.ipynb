{
 "cells": [
  {
   "cell_type": "markdown",
   "metadata": {},
   "source": [
    "This notebook contains code to open ACS census block group cvs files and reduce reduce table width by removing extraneous columns (so far, only removing columns that have margin of error data). It also removes the extra first row of header data from the csvs, keeping the 2nd row of the csv for the header in the cleaned version. "
   ]
  },
  {
   "cell_type": "code",
   "execution_count": 60,
   "metadata": {
    "collapsed": true
   },
   "outputs": [],
   "source": [
    "import csv\n",
    "import os\n",
    "import pprint\n",
    "import pandas as pd\n",
    "from os import listdir\n",
    "from os.path import isfile, join\n"
   ]
  },
  {
   "cell_type": "code",
   "execution_count": 61,
   "metadata": {
    "collapsed": true
   },
   "outputs": [],
   "source": [
    "# an example census table\n",
    "filename = 'ACS_15_5YR_B01001_with_ann.csv'"
   ]
  },
  {
   "cell_type": "code",
   "execution_count": 34,
   "metadata": {
    "collapsed": false
   },
   "outputs": [
    {
     "data": {
      "text/html": [
       "<div>\n",
       "<table border=\"1\" class=\"dataframe\">\n",
       "  <thead>\n",
       "    <tr style=\"text-align: right;\">\n",
       "      <th></th>\n",
       "      <th>Id</th>\n",
       "      <th>Id2</th>\n",
       "      <th>Geography</th>\n",
       "      <th>Estimate; Total:</th>\n",
       "      <th>Margin of Error; Total:</th>\n",
       "      <th>Estimate; Male:</th>\n",
       "      <th>Margin of Error; Male:</th>\n",
       "      <th>Estimate; Male: - Under 5 years</th>\n",
       "      <th>Margin of Error; Male: - Under 5 years</th>\n",
       "      <th>Estimate; Male: - 5 to 9 years</th>\n",
       "      <th>...</th>\n",
       "      <th>Estimate; Female: - 67 to 69 years</th>\n",
       "      <th>Margin of Error; Female: - 67 to 69 years</th>\n",
       "      <th>Estimate; Female: - 70 to 74 years</th>\n",
       "      <th>Margin of Error; Female: - 70 to 74 years</th>\n",
       "      <th>Estimate; Female: - 75 to 79 years</th>\n",
       "      <th>Margin of Error; Female: - 75 to 79 years</th>\n",
       "      <th>Estimate; Female: - 80 to 84 years</th>\n",
       "      <th>Margin of Error; Female: - 80 to 84 years</th>\n",
       "      <th>Estimate; Female: - 85 years and over</th>\n",
       "      <th>Margin of Error; Female: - 85 years and over</th>\n",
       "    </tr>\n",
       "  </thead>\n",
       "  <tbody>\n",
       "    <tr>\n",
       "      <th>0</th>\n",
       "      <td>1500000US410510001001</td>\n",
       "      <td>410510001001</td>\n",
       "      <td>Block Group 1, Census Tract 1, Multnomah Count...</td>\n",
       "      <td>625</td>\n",
       "      <td>173</td>\n",
       "      <td>335</td>\n",
       "      <td>121</td>\n",
       "      <td>17</td>\n",
       "      <td>27</td>\n",
       "      <td>0</td>\n",
       "      <td>...</td>\n",
       "      <td>0</td>\n",
       "      <td>12</td>\n",
       "      <td>26</td>\n",
       "      <td>22</td>\n",
       "      <td>0</td>\n",
       "      <td>12</td>\n",
       "      <td>0</td>\n",
       "      <td>12</td>\n",
       "      <td>0</td>\n",
       "      <td>12</td>\n",
       "    </tr>\n",
       "  </tbody>\n",
       "</table>\n",
       "<p>1 rows × 101 columns</p>\n",
       "</div>"
      ],
      "text/plain": [
       "                      Id           Id2  \\\n",
       "0  1500000US410510001001  410510001001   \n",
       "\n",
       "                                           Geography  Estimate; Total:  \\\n",
       "0  Block Group 1, Census Tract 1, Multnomah Count...               625   \n",
       "\n",
       "   Margin of Error; Total:  Estimate; Male:  Margin of Error; Male:  \\\n",
       "0                      173              335                     121   \n",
       "\n",
       "   Estimate; Male: - Under 5 years  Margin of Error; Male: - Under 5 years  \\\n",
       "0                               17                                      27   \n",
       "\n",
       "   Estimate; Male: - 5 to 9 years  \\\n",
       "0                               0   \n",
       "\n",
       "                       ...                       \\\n",
       "0                      ...                        \n",
       "\n",
       "   Estimate; Female: - 67 to 69 years  \\\n",
       "0                                   0   \n",
       "\n",
       "   Margin of Error; Female: - 67 to 69 years  \\\n",
       "0                                         12   \n",
       "\n",
       "   Estimate; Female: - 70 to 74 years  \\\n",
       "0                                  26   \n",
       "\n",
       "   Margin of Error; Female: - 70 to 74 years  \\\n",
       "0                                         22   \n",
       "\n",
       "   Estimate; Female: - 75 to 79 years  \\\n",
       "0                                   0   \n",
       "\n",
       "   Margin of Error; Female: - 75 to 79 years  \\\n",
       "0                                         12   \n",
       "\n",
       "   Estimate; Female: - 80 to 84 years  \\\n",
       "0                                   0   \n",
       "\n",
       "   Margin of Error; Female: - 80 to 84 years  \\\n",
       "0                                         12   \n",
       "\n",
       "   Estimate; Female: - 85 years and over  \\\n",
       "0                                      0   \n",
       "\n",
       "   Margin of Error; Female: - 85 years and over  \n",
       "0                                            12  \n",
       "\n",
       "[1 rows x 101 columns]"
      ]
     },
     "execution_count": 34,
     "metadata": {},
     "output_type": "execute_result"
    }
   ],
   "source": [
    "# script to open one csv file and remove the margin of error columns\n",
    "#def open_clean(file):\n",
    "#    data = []\n",
    "#    with open(file, 'rb') as f:\n",
    "#        r = csv.DictReader(f)\n",
    "#        for line in r:\n",
    "#            data.append(line)\n",
    "#    return data\n",
    "\n",
    "f = pd.read_csv(filename, skiprows=[0]) #skips first row since these csvs have two header rows, \n",
    "#skips first row since these csvs have two header rows, 2nd row has the header we want\n",
    "\n",
    "f.head(1)"
   ]
  },
  {
   "cell_type": "code",
   "execution_count": 64,
   "metadata": {
    "collapsed": false
   },
   "outputs": [
    {
     "name": "stdout",
     "output_type": "stream",
     "text": [
      "['Id', 'Id2', 'Geography', 'Estimate; Total:', 'Margin of Error; Total:', 'Estimate; Male:', 'Margin of Error; Male:', 'Estimate; Male: - Under 5 years', 'Margin of Error; Male: - Under 5 years', 'Estimate; Male: - 5 to 9 years', 'Margin of Error; Male: - 5 to 9 years', 'Estimate; Male: - 10 to 14 years', 'Margin of Error; Male: - 10 to 14 years', 'Estimate; Male: - 15 to 17 years', 'Margin of Error; Male: - 15 to 17 years', 'Estimate; Male: - 18 and 19 years', 'Margin of Error; Male: - 18 and 19 years', 'Estimate; Male: - 20 years', 'Margin of Error; Male: - 20 years', 'Estimate; Male: - 21 years', 'Margin of Error; Male: - 21 years', 'Estimate; Male: - 22 to 24 years', 'Margin of Error; Male: - 22 to 24 years', 'Estimate; Male: - 25 to 29 years', 'Margin of Error; Male: - 25 to 29 years', 'Estimate; Male: - 30 to 34 years', 'Margin of Error; Male: - 30 to 34 years', 'Estimate; Male: - 35 to 39 years', 'Margin of Error; Male: - 35 to 39 years', 'Estimate; Male: - 40 to 44 years', 'Margin of Error; Male: - 40 to 44 years', 'Estimate; Male: - 45 to 49 years', 'Margin of Error; Male: - 45 to 49 years', 'Estimate; Male: - 50 to 54 years', 'Margin of Error; Male: - 50 to 54 years', 'Estimate; Male: - 55 to 59 years', 'Margin of Error; Male: - 55 to 59 years', 'Estimate; Male: - 60 and 61 years', 'Margin of Error; Male: - 60 and 61 years', 'Estimate; Male: - 62 to 64 years', 'Margin of Error; Male: - 62 to 64 years', 'Estimate; Male: - 65 and 66 years', 'Margin of Error; Male: - 65 and 66 years', 'Estimate; Male: - 67 to 69 years', 'Margin of Error; Male: - 67 to 69 years', 'Estimate; Male: - 70 to 74 years', 'Margin of Error; Male: - 70 to 74 years', 'Estimate; Male: - 75 to 79 years', 'Margin of Error; Male: - 75 to 79 years', 'Estimate; Male: - 80 to 84 years', 'Margin of Error; Male: - 80 to 84 years', 'Estimate; Male: - 85 years and over', 'Margin of Error; Male: - 85 years and over', 'Estimate; Female:', 'Margin of Error; Female:', 'Estimate; Female: - Under 5 years', 'Margin of Error; Female: - Under 5 years', 'Estimate; Female: - 5 to 9 years', 'Margin of Error; Female: - 5 to 9 years', 'Estimate; Female: - 10 to 14 years', 'Margin of Error; Female: - 10 to 14 years', 'Estimate; Female: - 15 to 17 years', 'Margin of Error; Female: - 15 to 17 years', 'Estimate; Female: - 18 and 19 years', 'Margin of Error; Female: - 18 and 19 years', 'Estimate; Female: - 20 years', 'Margin of Error; Female: - 20 years', 'Estimate; Female: - 21 years', 'Margin of Error; Female: - 21 years', 'Estimate; Female: - 22 to 24 years', 'Margin of Error; Female: - 22 to 24 years', 'Estimate; Female: - 25 to 29 years', 'Margin of Error; Female: - 25 to 29 years', 'Estimate; Female: - 30 to 34 years', 'Margin of Error; Female: - 30 to 34 years', 'Estimate; Female: - 35 to 39 years', 'Margin of Error; Female: - 35 to 39 years', 'Estimate; Female: - 40 to 44 years', 'Margin of Error; Female: - 40 to 44 years', 'Estimate; Female: - 45 to 49 years', 'Margin of Error; Female: - 45 to 49 years', 'Estimate; Female: - 50 to 54 years', 'Margin of Error; Female: - 50 to 54 years', 'Estimate; Female: - 55 to 59 years', 'Margin of Error; Female: - 55 to 59 years', 'Estimate; Female: - 60 and 61 years', 'Margin of Error; Female: - 60 and 61 years', 'Estimate; Female: - 62 to 64 years', 'Margin of Error; Female: - 62 to 64 years', 'Estimate; Female: - 65 and 66 years', 'Margin of Error; Female: - 65 and 66 years', 'Estimate; Female: - 67 to 69 years', 'Margin of Error; Female: - 67 to 69 years', 'Estimate; Female: - 70 to 74 years', 'Margin of Error; Female: - 70 to 74 years', 'Estimate; Female: - 75 to 79 years', 'Margin of Error; Female: - 75 to 79 years', 'Estimate; Female: - 80 to 84 years', 'Margin of Error; Female: - 80 to 84 years', 'Estimate; Female: - 85 years and over', 'Margin of Error; Female: - 85 years and over']\n",
      "['Id', 'Id2', 'Geography', 'Estimate; Total:', 'Estimate; Male:', 'Estimate; Male: - Under 5 years', 'Estimate; Male: - 5 to 9 years', 'Estimate; Male: - 10 to 14 years', 'Estimate; Male: - 15 to 17 years', 'Estimate; Male: - 18 and 19 years', 'Estimate; Male: - 20 years', 'Estimate; Male: - 21 years', 'Estimate; Male: - 22 to 24 years', 'Estimate; Male: - 25 to 29 years', 'Estimate; Male: - 30 to 34 years', 'Estimate; Male: - 35 to 39 years', 'Estimate; Male: - 40 to 44 years', 'Estimate; Male: - 45 to 49 years', 'Estimate; Male: - 50 to 54 years', 'Estimate; Male: - 55 to 59 years', 'Estimate; Male: - 60 and 61 years', 'Estimate; Male: - 62 to 64 years', 'Estimate; Male: - 65 and 66 years', 'Estimate; Male: - 67 to 69 years', 'Estimate; Male: - 70 to 74 years', 'Estimate; Male: - 75 to 79 years', 'Estimate; Male: - 80 to 84 years', 'Estimate; Male: - 85 years and over', 'Estimate; Female:', 'Estimate; Female: - Under 5 years', 'Estimate; Female: - 5 to 9 years', 'Estimate; Female: - 10 to 14 years', 'Estimate; Female: - 15 to 17 years', 'Estimate; Female: - 18 and 19 years', 'Estimate; Female: - 20 years', 'Estimate; Female: - 21 years', 'Estimate; Female: - 22 to 24 years', 'Estimate; Female: - 25 to 29 years', 'Estimate; Female: - 30 to 34 years', 'Estimate; Female: - 35 to 39 years', 'Estimate; Female: - 40 to 44 years', 'Estimate; Female: - 45 to 49 years', 'Estimate; Female: - 50 to 54 years', 'Estimate; Female: - 55 to 59 years', 'Estimate; Female: - 60 and 61 years', 'Estimate; Female: - 62 to 64 years', 'Estimate; Female: - 65 and 66 years', 'Estimate; Female: - 67 to 69 years', 'Estimate; Female: - 70 to 74 years', 'Estimate; Female: - 75 to 79 years', 'Estimate; Female: - 80 to 84 years', 'Estimate; Female: - 85 years and over']\n"
     ]
    }
   ],
   "source": [
    "# open csv file and remove columns that have margin of error\n",
    "\n",
    "f = pd.read_csv(filename, skiprows=[0])\n",
    "keep_col = []\n",
    "header_list = list(f)\n",
    "print(header_list)\n",
    "for header in header_list:\n",
    "    if 'Margin' not in header:\n",
    "        keep_col.append(header)\n",
    "print(keep_col)\n",
    "new_f = f[keep_col]\n",
    "new_f.to_csv('clean_'+filename, index=False)\n",
    "            "
   ]
  },
  {
   "cell_type": "code",
   "execution_count": 49,
   "metadata": {
    "collapsed": false
   },
   "outputs": [
    {
     "data": {
      "text/plain": [
       "['ACS_15_5YR_B01001.txt',\n",
       " 'ACS_15_5YR_B01001_metadata.csv',\n",
       " 'ACS_15_5YR_B01001_with_ann.csv',\n",
       " 'ACS_15_5YR_B01003.txt',\n",
       " 'ACS_15_5YR_B01003_metadata.csv',\n",
       " 'ACS_15_5YR_B01003_with_ann.csv',\n",
       " 'ACS_15_5YR_B02001.txt',\n",
       " 'ACS_15_5YR_B02001_metadata.csv',\n",
       " 'ACS_15_5YR_B02001_with_ann.csv',\n",
       " 'ACS_15_5YR_B08135.txt',\n",
       " 'ACS_15_5YR_B08135_metadata.csv',\n",
       " 'ACS_15_5YR_B08135_with_ann.csv',\n",
       " 'ACS_15_5YR_B11007.txt',\n",
       " 'ACS_15_5YR_B11007_metadata.csv',\n",
       " 'ACS_15_5YR_B11007_with_ann.csv',\n",
       " 'ACS_15_5YR_B16002.txt',\n",
       " 'ACS_15_5YR_B16002_metadata.csv',\n",
       " 'ACS_15_5YR_B16002_with_ann.csv',\n",
       " 'ACS_15_5YR_B17021.txt',\n",
       " 'ACS_15_5YR_B17021_metadata.csv',\n",
       " 'ACS_15_5YR_B17021_with_ann.csv',\n",
       " 'ACS_15_5YR_B19001.txt',\n",
       " 'ACS_15_5YR_B19001_metadata.csv',\n",
       " 'ACS_15_5YR_B19001_with_ann.csv',\n",
       " 'ACS_15_5YR_B19013.txt',\n",
       " 'ACS_15_5YR_B19013_metadata.csv',\n",
       " 'ACS_15_5YR_B19013_with_ann.csv',\n",
       " 'ACS_15_5YR_B25003.txt',\n",
       " 'ACS_15_5YR_B25003_metadata.csv',\n",
       " 'ACS_15_5YR_B25003_with_ann.csv',\n",
       " 'aff_download.zip',\n",
       " 'aff_download_readme_ann.txt',\n",
       " 'census_bg_csv_clean.ipynb']"
      ]
     },
     "execution_count": 49,
     "metadata": {},
     "output_type": "execute_result"
    }
   ],
   "source": [
    "# make a list of all files in current notebook directory\n",
    "onlyfiles = [f for f in listdir() if isfile(join(f))]\n",
    "onlyfiles"
   ]
  },
  {
   "cell_type": "code",
   "execution_count": 50,
   "metadata": {
    "collapsed": false
   },
   "outputs": [
    {
     "data": {
      "text/plain": [
       "['ACS_15_5YR_B01001_with_ann.csv',\n",
       " 'ACS_15_5YR_B01003_with_ann.csv',\n",
       " 'ACS_15_5YR_B02001_with_ann.csv',\n",
       " 'ACS_15_5YR_B08135_with_ann.csv',\n",
       " 'ACS_15_5YR_B11007_with_ann.csv',\n",
       " 'ACS_15_5YR_B16002_with_ann.csv',\n",
       " 'ACS_15_5YR_B17021_with_ann.csv',\n",
       " 'ACS_15_5YR_B19001_with_ann.csv',\n",
       " 'ACS_15_5YR_B19013_with_ann.csv',\n",
       " 'ACS_15_5YR_B25003_with_ann.csv']"
      ]
     },
     "execution_count": 50,
     "metadata": {},
     "output_type": "execute_result"
    }
   ],
   "source": [
    "# subset this list by actual census data tables (_with_ann.csv suffix)\n",
    "census_tables = [file for file in onlyfiles if '_with_ann.csv' in file]\n",
    "census_tables"
   ]
  },
  {
   "cell_type": "code",
   "execution_count": 58,
   "metadata": {
    "collapsed": false
   },
   "outputs": [],
   "source": [
    "# make a function to clean all files in the census_tables list and write new clean cvs file\n",
    "\n",
    "def open_clean(file_list):\n",
    "    for file in census_tables:\n",
    "        f = pd.read_csv(file, skiprows=[0])\n",
    "        keep_col = [] # list of column names I want to keep\n",
    "        header_list = list(f)\n",
    "        #print(header_list)\n",
    "        for header in header_list:\n",
    "            if 'Margin' not in header:\n",
    "                keep_col.append(header)\n",
    "        #print(keep_col)\n",
    "        new_f = f[keep_col]\n",
    "        new_f.to_csv('clean_'+file, index=False)\n",
    "        print('cleaned and saved: '+'clean_'+file)"
   ]
  },
  {
   "cell_type": "code",
   "execution_count": 59,
   "metadata": {
    "collapsed": false
   },
   "outputs": [
    {
     "name": "stdout",
     "output_type": "stream",
     "text": [
      "cleaned and saved: clean_ACS_15_5YR_B01001_with_ann.csv\n",
      "cleaned and saved: clean_ACS_15_5YR_B01003_with_ann.csv\n",
      "cleaned and saved: clean_ACS_15_5YR_B02001_with_ann.csv\n",
      "cleaned and saved: clean_ACS_15_5YR_B08135_with_ann.csv\n",
      "cleaned and saved: clean_ACS_15_5YR_B11007_with_ann.csv\n",
      "cleaned and saved: clean_ACS_15_5YR_B16002_with_ann.csv\n",
      "cleaned and saved: clean_ACS_15_5YR_B17021_with_ann.csv\n",
      "cleaned and saved: clean_ACS_15_5YR_B19001_with_ann.csv\n",
      "cleaned and saved: clean_ACS_15_5YR_B19013_with_ann.csv\n",
      "cleaned and saved: clean_ACS_15_5YR_B25003_with_ann.csv\n"
     ]
    }
   ],
   "source": [
    "open_clean(census_tables)"
   ]
  },
  {
   "cell_type": "code",
   "execution_count": null,
   "metadata": {
    "collapsed": true
   },
   "outputs": [],
   "source": []
  }
 ],
 "metadata": {
  "kernelspec": {
   "display_name": "Python (snakes)",
   "language": "python",
   "name": "myenv"
  },
  "language_info": {
   "codemirror_mode": {
    "name": "ipython",
    "version": 3
   },
   "file_extension": ".py",
   "mimetype": "text/x-python",
   "name": "python",
   "nbconvert_exporter": "python",
   "pygments_lexer": "ipython3",
   "version": "3.6.0"
  }
 },
 "nbformat": 4,
 "nbformat_minor": 0
}
